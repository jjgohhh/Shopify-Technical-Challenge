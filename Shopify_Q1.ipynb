{
 "cells": [
  {
   "cell_type": "markdown",
   "metadata": {},
   "source": [
    "## Shopify Technical Challenge Question 1\n",
    "### Jun Jie Goh "
   ]
  },
  {
   "cell_type": "code",
   "execution_count": null,
   "metadata": {},
   "outputs": [],
   "source": [
    "import pandas as pd \n",
    "from matplotlib import pyplot as plt\n",
    "import seaborn as sns \n",
    "import datetime\n",
    "from scipy import stats\n",
    "import numpy as np"
   ]
  },
  {
   "cell_type": "code",
   "execution_count": 8,
   "metadata": {},
   "outputs": [],
   "source": [
    "df = pd.read_csv(\"shopify.csv\", index_col=\"order_id\")"
   ]
  },
  {
   "cell_type": "code",
   "execution_count": 9,
   "metadata": {},
   "outputs": [
    {
     "data": {
      "text/html": [
       "<div>\n",
       "<style scoped>\n",
       "    .dataframe tbody tr th:only-of-type {\n",
       "        vertical-align: middle;\n",
       "    }\n",
       "\n",
       "    .dataframe tbody tr th {\n",
       "        vertical-align: top;\n",
       "    }\n",
       "\n",
       "    .dataframe thead th {\n",
       "        text-align: right;\n",
       "    }\n",
       "</style>\n",
       "<table border=\"1\" class=\"dataframe\">\n",
       "  <thead>\n",
       "    <tr style=\"text-align: right;\">\n",
       "      <th></th>\n",
       "      <th>shop_id</th>\n",
       "      <th>user_id</th>\n",
       "      <th>order_amount</th>\n",
       "      <th>total_items</th>\n",
       "      <th>payment_method</th>\n",
       "      <th>created_at</th>\n",
       "    </tr>\n",
       "    <tr>\n",
       "      <th>order_id</th>\n",
       "      <th></th>\n",
       "      <th></th>\n",
       "      <th></th>\n",
       "      <th></th>\n",
       "      <th></th>\n",
       "      <th></th>\n",
       "    </tr>\n",
       "  </thead>\n",
       "  <tbody>\n",
       "    <tr>\n",
       "      <th>1</th>\n",
       "      <td>53</td>\n",
       "      <td>746</td>\n",
       "      <td>224</td>\n",
       "      <td>2</td>\n",
       "      <td>cash</td>\n",
       "      <td>3/13/2017 12:36</td>\n",
       "    </tr>\n",
       "    <tr>\n",
       "      <th>2</th>\n",
       "      <td>92</td>\n",
       "      <td>925</td>\n",
       "      <td>90</td>\n",
       "      <td>1</td>\n",
       "      <td>cash</td>\n",
       "      <td>3/3/2017 17:38</td>\n",
       "    </tr>\n",
       "    <tr>\n",
       "      <th>3</th>\n",
       "      <td>44</td>\n",
       "      <td>861</td>\n",
       "      <td>144</td>\n",
       "      <td>1</td>\n",
       "      <td>cash</td>\n",
       "      <td>3/14/2017 4:23</td>\n",
       "    </tr>\n",
       "    <tr>\n",
       "      <th>4</th>\n",
       "      <td>18</td>\n",
       "      <td>935</td>\n",
       "      <td>156</td>\n",
       "      <td>1</td>\n",
       "      <td>credit_card</td>\n",
       "      <td>3/26/2017 12:43</td>\n",
       "    </tr>\n",
       "    <tr>\n",
       "      <th>5</th>\n",
       "      <td>18</td>\n",
       "      <td>883</td>\n",
       "      <td>156</td>\n",
       "      <td>1</td>\n",
       "      <td>credit_card</td>\n",
       "      <td>3/1/2017 4:35</td>\n",
       "    </tr>\n",
       "  </tbody>\n",
       "</table>\n",
       "</div>"
      ],
      "text/plain": [
       "          shop_id  user_id  order_amount  total_items payment_method  \\\n",
       "order_id                                                               \n",
       "1              53      746           224            2           cash   \n",
       "2              92      925            90            1           cash   \n",
       "3              44      861           144            1           cash   \n",
       "4              18      935           156            1    credit_card   \n",
       "5              18      883           156            1    credit_card   \n",
       "\n",
       "               created_at  \n",
       "order_id                   \n",
       "1         3/13/2017 12:36  \n",
       "2          3/3/2017 17:38  \n",
       "3          3/14/2017 4:23  \n",
       "4         3/26/2017 12:43  \n",
       "5           3/1/2017 4:35  "
      ]
     },
     "execution_count": 9,
     "metadata": {},
     "output_type": "execute_result"
    }
   ],
   "source": [
    "df.head()"
   ]
  },
  {
   "cell_type": "markdown",
   "metadata": {},
   "source": [
    "## a. Think about what could be going wrong with our calculation. Think about a better way to evaluate this data. \n",
    "\n",
    "Before doing any calculations, I created a new column to calculate the price per item to observe if any of the shoes has an abnormal price. Since the question stated that these shops one sells one model per shoe, they all should be relatively the same price. I used a z-score method; if data points are too far from 0 they will be treated as outliers - in this case, a value of more than 3 or less than -3. I observed that an item has a price of $25725, which is way too expensive for a pair of shoes and I removed it from the dataset. \n",
    "\n",
    "Currently, the average order value (AOV) is calculated by taking the mean of the 'order_amount' column. This calculation did not factor in the number of items purchased. For example, a customer have bought 2000 pairs of shoes that costs a total of $704000 on multiple occasions throughout the month. \n",
    "\n",
    "This act of buying in bulk on multiple occasions has created outliers in the dataset, resulting in the high AOV when number of items purchased is not considered. A better way of evaluating this is to sum the 'order_amount' and divide it by the total number of sales resulting in a value of $307.\n",
    "\n",
    "Code is as follows:"
   ]
  },
  {
   "cell_type": "code",
   "execution_count": 10,
   "metadata": {},
   "outputs": [
    {
     "data": {
      "text/plain": [
       "3145.128"
      ]
     },
     "execution_count": 10,
     "metadata": {},
     "output_type": "execute_result"
    }
   ],
   "source": [
    "# AOV without number of sales considered \n",
    "df[\"order_amount\"].mean()"
   ]
  },
  {
   "cell_type": "code",
   "execution_count": 39,
   "metadata": {},
   "outputs": [],
   "source": [
    "# Create new column to calculate price per item\n",
    "df[\"price_per_item\"] = df[\"order_amount\"]/df[\"total_items\"]\n"
   ]
  },
  {
   "cell_type": "code",
   "execution_count": 28,
   "metadata": {},
   "outputs": [
    {
     "name": "stdout",
     "output_type": "stream",
     "text": [
      "[25725.0, 25725.0, 25725.0, 25725.0, 25725.0, 25725.0, 25725.0, 25725.0, 25725.0, 25725.0, 25725.0, 25725.0, 25725.0, 25725.0, 25725.0, 25725.0, 25725.0, 25725.0, 25725.0, 25725.0, 25725.0, 25725.0, 25725.0, 25725.0, 25725.0, 25725.0, 25725.0, 25725.0, 25725.0, 25725.0, 25725.0, 25725.0, 25725.0, 25725.0, 25725.0, 25725.0, 25725.0, 25725.0, 25725.0, 25725.0, 25725.0, 25725.0, 25725.0, 25725.0, 25725.0, 25725.0]\n"
     ]
    }
   ],
   "source": [
    "# Identify outliers using z-score\n",
    "outliers=[]\n",
    "def outlier_func(input_data):\n",
    "    \n",
    "    threshold=3\n",
    "    mean_value = np.mean(input_data)\n",
    "    std_value =np.std(input_data)\n",
    "    \n",
    "    \n",
    "    for obs in input_data:\n",
    "        z_score= (obs - mean_value)/std_value\n",
    "        if np.abs(z_score) > threshold:\n",
    "            outliers.append(obs)\n",
    "    return outliers\n",
    "\n",
    "print(outlier_func(df[\"price_per_item\"]))"
   ]
  },
  {
   "cell_type": "code",
   "execution_count": 37,
   "metadata": {},
   "outputs": [],
   "source": [
    "# Remove the outliers \n",
    "df_clean = df[df[\"price_per_item\"] < 25725]"
   ]
  },
  {
   "cell_type": "code",
   "execution_count": 38,
   "metadata": {},
   "outputs": [
    {
     "name": "stdout",
     "output_type": "stream",
     "text": [
      "307.01149425287355\n"
     ]
    }
   ],
   "source": [
    "# AOV with number of sales considered \n",
    "sum_order = df_clean[\"order_amount\"].sum()\n",
    "sum_count = df_clean[\"total_items\"].sum()\n",
    "print(sum_order/sum_count)"
   ]
  },
  {
   "cell_type": "markdown",
   "metadata": {},
   "source": [
    "## b. What metric would you report for this dataset? \n",
    "I would use AOV per day. This will allow us to look at the AOV on a more granular scale and identify which day/dates has the highest AOV. If a certain trend exists in the data, this information could then be utilized for more actionable and marketing insights."
   ]
  },
  {
   "cell_type": "markdown",
   "metadata": {},
   "source": [
    "## c. What is its value?\n",
    "\n",
    "The value for AOV per day is calculated in a table and graphed out below.\n",
    "Code is as follows:"
   ]
  },
  {
   "cell_type": "code",
   "execution_count": 67,
   "metadata": {},
   "outputs": [
    {
     "name": "stderr",
     "output_type": "stream",
     "text": [
      "<ipython-input-67-329e6050de13>:2: SettingWithCopyWarning: \n",
      "A value is trying to be set on a copy of a slice from a DataFrame.\n",
      "Try using .loc[row_indexer,col_indexer] = value instead\n",
      "\n",
      "See the caveats in the documentation: https://pandas.pydata.org/pandas-docs/stable/user_guide/indexing.html#returning-a-view-versus-a-copy\n",
      "  df_clean[\"created_at\"] = pd.to_datetime(df_clean[\"created_at\"], errors='coerce').dt.date\n"
     ]
    }
   ],
   "source": [
    "# Remove timestamp on 'created_at' column\n",
    "df_clean[\"created_at\"] = pd.to_datetime(df_clean[\"created_at\"], errors='coerce').dt.date\n",
    "#df_clean[\"created_at\"] = df_clean[\"created_at\"].dt.date"
   ]
  },
  {
   "cell_type": "code",
   "execution_count": 57,
   "metadata": {},
   "outputs": [
    {
     "data": {
      "text/html": [
       "<div>\n",
       "<style scoped>\n",
       "    .dataframe tbody tr th:only-of-type {\n",
       "        vertical-align: middle;\n",
       "    }\n",
       "\n",
       "    .dataframe tbody tr th {\n",
       "        vertical-align: top;\n",
       "    }\n",
       "\n",
       "    .dataframe thead th {\n",
       "        text-align: right;\n",
       "    }\n",
       "</style>\n",
       "<table border=\"1\" class=\"dataframe\">\n",
       "  <thead>\n",
       "    <tr style=\"text-align: right;\">\n",
       "      <th></th>\n",
       "      <th>order_amount</th>\n",
       "      <th>total_items</th>\n",
       "      <th>AOV_per_day</th>\n",
       "    </tr>\n",
       "    <tr>\n",
       "      <th>created_at</th>\n",
       "      <th></th>\n",
       "      <th></th>\n",
       "      <th></th>\n",
       "    </tr>\n",
       "  </thead>\n",
       "  <tbody>\n",
       "    <tr>\n",
       "      <th>2017-03-01</th>\n",
       "      <td>54704</td>\n",
       "      <td>357</td>\n",
       "      <td>153.232493</td>\n",
       "    </tr>\n",
       "    <tr>\n",
       "      <th>2017-03-02</th>\n",
       "      <td>1459484</td>\n",
       "      <td>4346</td>\n",
       "      <td>335.822365</td>\n",
       "    </tr>\n",
       "    <tr>\n",
       "      <th>2017-03-03</th>\n",
       "      <td>48729</td>\n",
       "      <td>324</td>\n",
       "      <td>150.398148</td>\n",
       "    </tr>\n",
       "    <tr>\n",
       "      <th>2017-03-04</th>\n",
       "      <td>752604</td>\n",
       "      <td>2309</td>\n",
       "      <td>325.943699</td>\n",
       "    </tr>\n",
       "    <tr>\n",
       "      <th>2017-03-05</th>\n",
       "      <td>49118</td>\n",
       "      <td>317</td>\n",
       "      <td>154.946372</td>\n",
       "    </tr>\n",
       "    <tr>\n",
       "      <th>2017-03-06</th>\n",
       "      <td>42266</td>\n",
       "      <td>277</td>\n",
       "      <td>152.584838</td>\n",
       "    </tr>\n",
       "    <tr>\n",
       "      <th>2017-03-07</th>\n",
       "      <td>1465850</td>\n",
       "      <td>4378</td>\n",
       "      <td>334.821836</td>\n",
       "    </tr>\n",
       "    <tr>\n",
       "      <th>2017-03-08</th>\n",
       "      <td>43432</td>\n",
       "      <td>287</td>\n",
       "      <td>151.331010</td>\n",
       "    </tr>\n",
       "    <tr>\n",
       "      <th>2017-03-09</th>\n",
       "      <td>62662</td>\n",
       "      <td>414</td>\n",
       "      <td>151.357488</td>\n",
       "    </tr>\n",
       "    <tr>\n",
       "      <th>2017-03-10</th>\n",
       "      <td>48908</td>\n",
       "      <td>319</td>\n",
       "      <td>153.316614</td>\n",
       "    </tr>\n",
       "    <tr>\n",
       "      <th>2017-03-11</th>\n",
       "      <td>755580</td>\n",
       "      <td>2343</td>\n",
       "      <td>322.483995</td>\n",
       "    </tr>\n",
       "    <tr>\n",
       "      <th>2017-03-12</th>\n",
       "      <td>753897</td>\n",
       "      <td>2324</td>\n",
       "      <td>324.396299</td>\n",
       "    </tr>\n",
       "    <tr>\n",
       "      <th>2017-03-13</th>\n",
       "      <td>51362</td>\n",
       "      <td>332</td>\n",
       "      <td>154.704819</td>\n",
       "    </tr>\n",
       "    <tr>\n",
       "      <th>2017-03-14</th>\n",
       "      <td>45161</td>\n",
       "      <td>292</td>\n",
       "      <td>154.660959</td>\n",
       "    </tr>\n",
       "    <tr>\n",
       "      <th>2017-03-15</th>\n",
       "      <td>743992</td>\n",
       "      <td>2266</td>\n",
       "      <td>328.328332</td>\n",
       "    </tr>\n",
       "    <tr>\n",
       "      <th>2017-03-16</th>\n",
       "      <td>41742</td>\n",
       "      <td>273</td>\n",
       "      <td>152.901099</td>\n",
       "    </tr>\n",
       "    <tr>\n",
       "      <th>2017-03-17</th>\n",
       "      <td>761359</td>\n",
       "      <td>2378</td>\n",
       "      <td>320.167788</td>\n",
       "    </tr>\n",
       "    <tr>\n",
       "      <th>2017-03-18</th>\n",
       "      <td>54064</td>\n",
       "      <td>366</td>\n",
       "      <td>147.715847</td>\n",
       "    </tr>\n",
       "    <tr>\n",
       "      <th>2017-03-19</th>\n",
       "      <td>748007</td>\n",
       "      <td>2293</td>\n",
       "      <td>326.213258</td>\n",
       "    </tr>\n",
       "    <tr>\n",
       "      <th>2017-03-20</th>\n",
       "      <td>47215</td>\n",
       "      <td>311</td>\n",
       "      <td>151.816720</td>\n",
       "    </tr>\n",
       "    <tr>\n",
       "      <th>2017-03-21</th>\n",
       "      <td>50113</td>\n",
       "      <td>338</td>\n",
       "      <td>148.263314</td>\n",
       "    </tr>\n",
       "    <tr>\n",
       "      <th>2017-03-22</th>\n",
       "      <td>755095</td>\n",
       "      <td>2337</td>\n",
       "      <td>323.104407</td>\n",
       "    </tr>\n",
       "    <tr>\n",
       "      <th>2017-03-23</th>\n",
       "      <td>50003</td>\n",
       "      <td>329</td>\n",
       "      <td>151.984802</td>\n",
       "    </tr>\n",
       "    <tr>\n",
       "      <th>2017-03-24</th>\n",
       "      <td>1456430</td>\n",
       "      <td>4322</td>\n",
       "      <td>336.980565</td>\n",
       "    </tr>\n",
       "    <tr>\n",
       "      <th>2017-03-25</th>\n",
       "      <td>754347</td>\n",
       "      <td>2326</td>\n",
       "      <td>324.310834</td>\n",
       "    </tr>\n",
       "    <tr>\n",
       "      <th>2017-03-26</th>\n",
       "      <td>53184</td>\n",
       "      <td>347</td>\n",
       "      <td>153.268012</td>\n",
       "    </tr>\n",
       "    <tr>\n",
       "      <th>2017-03-27</th>\n",
       "      <td>51844</td>\n",
       "      <td>343</td>\n",
       "      <td>151.148688</td>\n",
       "    </tr>\n",
       "    <tr>\n",
       "      <th>2017-03-28</th>\n",
       "      <td>2165019</td>\n",
       "      <td>6354</td>\n",
       "      <td>340.733239</td>\n",
       "    </tr>\n",
       "    <tr>\n",
       "      <th>2017-03-29</th>\n",
       "      <td>47479</td>\n",
       "      <td>321</td>\n",
       "      <td>147.909657</td>\n",
       "    </tr>\n",
       "    <tr>\n",
       "      <th>2017-03-30</th>\n",
       "      <td>48190</td>\n",
       "      <td>325</td>\n",
       "      <td>148.276923</td>\n",
       "    </tr>\n",
       "  </tbody>\n",
       "</table>\n",
       "</div>"
      ],
      "text/plain": [
       "            order_amount  total_items  AOV_per_day\n",
       "created_at                                        \n",
       "2017-03-01         54704          357   153.232493\n",
       "2017-03-02       1459484         4346   335.822365\n",
       "2017-03-03         48729          324   150.398148\n",
       "2017-03-04        752604         2309   325.943699\n",
       "2017-03-05         49118          317   154.946372\n",
       "2017-03-06         42266          277   152.584838\n",
       "2017-03-07       1465850         4378   334.821836\n",
       "2017-03-08         43432          287   151.331010\n",
       "2017-03-09         62662          414   151.357488\n",
       "2017-03-10         48908          319   153.316614\n",
       "2017-03-11        755580         2343   322.483995\n",
       "2017-03-12        753897         2324   324.396299\n",
       "2017-03-13         51362          332   154.704819\n",
       "2017-03-14         45161          292   154.660959\n",
       "2017-03-15        743992         2266   328.328332\n",
       "2017-03-16         41742          273   152.901099\n",
       "2017-03-17        761359         2378   320.167788\n",
       "2017-03-18         54064          366   147.715847\n",
       "2017-03-19        748007         2293   326.213258\n",
       "2017-03-20         47215          311   151.816720\n",
       "2017-03-21         50113          338   148.263314\n",
       "2017-03-22        755095         2337   323.104407\n",
       "2017-03-23         50003          329   151.984802\n",
       "2017-03-24       1456430         4322   336.980565\n",
       "2017-03-25        754347         2326   324.310834\n",
       "2017-03-26         53184          347   153.268012\n",
       "2017-03-27         51844          343   151.148688\n",
       "2017-03-28       2165019         6354   340.733239\n",
       "2017-03-29         47479          321   147.909657\n",
       "2017-03-30         48190          325   148.276923"
      ]
     },
     "execution_count": 57,
     "metadata": {},
     "output_type": "execute_result"
    }
   ],
   "source": [
    "df_aov = df_clean[['created_at','order_amount','total_items']].groupby(['created_at']).sum().eval('AOV_per_day = order_amount/total_items')\n",
    "df_aov"
   ]
  },
  {
   "cell_type": "code",
   "execution_count": 66,
   "metadata": {},
   "outputs": [
    {
     "data": {
      "text/plain": [
       "<matplotlib.axes._subplots.AxesSubplot at 0x197aa786910>"
      ]
     },
     "execution_count": 66,
     "metadata": {},
     "output_type": "execute_result"
    },
    {
     "data": {
      "image/png": "[encoded data removed]",
      "text/plain": [
       "<Figure size 936x504 with 1 Axes>"
      ]
     },
     "metadata": {
      "needs_background": "light"
     },
     "output_type": "display_data"
    }
   ],
   "source": [
    "# Visualizing \n",
    "df_aov.reset_index().plot(x='created_at', y='AOV_per_day', figsize=(13, 7))"
   ]
  }
 ],
 "metadata": {
  "kernelspec": {
   "display_name": "Python 3",
   "language": "python",
   "name": "python3"
  },
  "language_info": {
   "codemirror_mode": {
    "name": "ipython",
    "version": 3
   },
   "file_extension": ".py",
   "mimetype": "text/x-python",
   "name": "python",
   "nbconvert_exporter": "python",
   "pygments_lexer": "ipython3",
   "version": "3.8.3"
  }
 },
 "nbformat": 4,
 "nbformat_minor": 4
}
